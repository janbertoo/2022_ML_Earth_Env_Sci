{
  "nbformat": 4,
  "nbformat_minor": 0,
  "metadata": {
    "colab": {
      "name": "Copy of Week_1_Basics_of_Python.ipynb",
      "provenance": [],
      "collapsed_sections": [],
      "toc_visible": true,
      "include_colab_link": true
    },
    "kernelspec": {
      "name": "python3",
      "display_name": "Python 3"
    },
    "language_info": {
      "name": "python"
    }
  },
  "cells": [
    {
      "cell_type": "markdown",
      "metadata": {
        "id": "view-in-github",
        "colab_type": "text"
      },
      "source": [
        "<a href=\"https://colab.research.google.com/github/janbertoo/2022_ML_Earth_Env_Sci/blob/main/Copy_of_Week_1_Basics_of_Python.ipynb\" target=\"_parent\"><img src=\"https://colab.research.google.com/assets/colab-badge.svg\" alt=\"Open In Colab\"/></a>"
      ]
    },
    {
      "cell_type": "markdown",
      "source": [
        "# Welcome to \"Machine Learning for Earth and Environmental Sciences\"\n",
        "\n",
        "For this week's lab, our goal is to (re)familiarize ourselves with the basics of Python, focusing on libraries that are especially convenient for manipulating geoscientific datasets, implementing machine learning algorithms, and visualizing results. Our main learning objectives today are to get (re)acquainted with several Python libraries:\n",
        "\n",
        "1.   [The Python Standard Library](https://docs.python.org/3/library/) and [Math](https://docs.python.org/3/library/math.html) for basic arithmetic\n",
        "2.   [Numpy](https://numpy.org/doc/stable/index.html) for scientific computing \n",
        "3.   [Matplotlib](https://matplotlib.org/) for visualization\n",
        "4.   [Pandas](https://pandas.pydata.org/) for manipulating tabular data\n",
        "5.   [Xarray](https://docs.xarray.dev/en/stable/) for manipulating multidimensional gridded data\n",
        "6.   [Cartopy](https://scitools.org.uk/cartopy/docs/latest/) for making maps\n",
        "\n",
        "Today's tutorial adapts excellent online resources to efficiently introduce the basics of Python, in particular [An Introduction to Earth and Environmental Data Science](https://earth-env-data-science.github.io/intro.html) by Ryan Abernathey, Kerry Key, and Tim Crone [(License)](https://creativecommons.org/licenses/by-sa/4.0/)\n",
        "\n",
        "There are many excellent tutorials to get started with Python, such as:\n",
        "\n",
        "*   [Programming with Python](https://swcarpentry.github.io/python-novice-inflammation/) by © Software Carpentry and © Data Carpentry [(License)](https://creativecommons.org/licenses/by/4.0/), if you need a tutorial that focuses on the fundamentals and goes at a slower pace than this tutorial.\n",
        "*   The [Python Basics](https://energy4climate.pages.in2p3.fr/public/education/machine_learning_for_climate_and_energy/notebooks/1_tutorial_introduction.html) page from [Machine Learning for Climate and Energy](https://energy4climate.pages.in2p3.fr/public/education/machine_learning_for_climate_and_energy/chapters/frontmatter.html) by Bruno Deremble and Alexis Tantet [(License)](https://creativecommons.org/licenses/by-sa/4.0/). This page is appropriate if you are looking for a quick tutorial covering the libraries to get started with machine learning for the environmental sciences. \n"
      ],
      "metadata": {
        "id": "T6AMaRTlK4tV"
      }
    },
    {
      "cell_type": "markdown",
      "source": [
        "If you are struggling with some of the exercises, do not hesitate to:\n",
        "\n",
        "\n",
        "*   Use a direct Internet search, or [stackoverflow](https://stackoverflow.com/)\n",
        "*   Ask your neighbor(s), the teacher, or the TA for help\n",
        "*   Debug your program, e.g. by following [this tutorial](https://swcarpentry.github.io/python-novice-inflammation/11-debugging/index.html)\n",
        "*   Use assertions, e.g. by following [this tutorial](https://swcarpentry.github.io/python-novice-inflammation/10-defensive/index.html)\n",
        "\n"
      ],
      "metadata": {
        "id": "iwMvPJB_Wmcp"
      }
    },
    {
      "cell_type": "markdown",
      "source": [
        "# 1. Python Fundamentals\n",
        "\n",
        "*   This notebook assumes that you are using Python 3, whose documentation can be found [at this link](https://docs.python.org/3/).\n",
        "*   Python has a built-in [interpreteter](https://en.wikipedia.org/wiki/Interpreter_(computing)), which means that it will directly execute the instructions you give without requiring compilation.\n",
        "*   Python is so widely used that you can usually find answers to your question via a direct Internet search, often on [stackoverflow](https://stackoverflow.com/)."
      ],
      "metadata": {
        "id": "R4LjmDWszf8p"
      }
    },
    {
      "cell_type": "markdown",
      "source": [
        "\n",
        "\n",
        "---\n",
        "\n",
        "Go to notebook [`S1_1_Python_fundamentals`](https://colab.research.google.com/github/tbeucler/2022_ML_Earth_Env_Sci/blob/main/Lab_Notebooks/S1_1_Python_Fundamentals.ipynb)\n",
        "\n",
        "---"
      ],
      "metadata": {
        "id": "XVnDy1fgzT-P"
      }
    },
    {
      "cell_type": "markdown",
      "source": [
        "# 2. Numpy for Scientific Computing"
      ],
      "metadata": {
        "id": "ihz9wwNH7_xg"
      }
    },
    {
      "cell_type": "markdown",
      "source": [
        "\n",
        "---\n",
        "\n",
        "Go to notebook [`S1_2_Numpy`](https://colab.research.google.com/github/tbeucler/2022_ML_Earth_Env_Sci/blob/main/Lab_Notebooks/S1_2_Numpy.ipynb)\n",
        "\n",
        "---\n"
      ],
      "metadata": {
        "id": "C4rt28WI8EU4"
      }
    },
    {
      "cell_type": "markdown",
      "source": [
        "# 3. Matplotlib for Visualization"
      ],
      "metadata": {
        "id": "fUsR_sSI8MHh"
      }
    },
    {
      "cell_type": "markdown",
      "source": [
        "\n",
        "---\n",
        "\n",
        "Go to notebook [`S1_3_Matplotlib`](https://colab.research.google.com/github/tbeucler/2022_ML_Earth_Env_Sci/blob/main/Lab_Notebooks/S1_3_Matplotlib.ipynb)\n",
        "\n",
        "---"
      ],
      "metadata": {
        "id": "bOIyzYYq854n"
      }
    },
    {
      "cell_type": "markdown",
      "source": [
        "# 4. Pandas for Manipulating Tabular Data"
      ],
      "metadata": {
        "id": "NphvrbD29x4U"
      }
    },
    {
      "cell_type": "markdown",
      "source": [
        "\n",
        "---\n",
        "\n",
        "Go to notebook [`S1_4_Pandas`](https://colab.research.google.com/github/tbeucler/2022_ML_Earth_Env_Sci/blob/main/Lab_Notebooks/S1_4_Pandas.ipynb)\n",
        "\n",
        "---"
      ],
      "metadata": {
        "id": "Gr1AgMxy-Be7"
      }
    },
    {
      "cell_type": "markdown",
      "source": [
        "# 5. Xarray for Multidimensional Gridded Data"
      ],
      "metadata": {
        "id": "LmE30obF-HM1"
      }
    },
    {
      "cell_type": "markdown",
      "source": [
        "\n",
        "---\n",
        "\n",
        "Go to notebook [`S1_5_Xarray`](https://colab.research.google.com/github/tbeucler/2022_ML_Earth_Env_Sci/blob/main/Lab_Notebooks/S1_5_Xarray.ipynb)\n",
        "\n",
        "---"
      ],
      "metadata": {
        "id": "i-iFIUJP-e6n"
      }
    },
    {
      "cell_type": "markdown",
      "source": [
        "# 6. Cartopy for Making Maps"
      ],
      "metadata": {
        "id": "UYr5mEe7-jFA"
      }
    },
    {
      "cell_type": "markdown",
      "source": [
        "\n",
        "---\n",
        "\n",
        "Go to notebook [`S1_6_Cartopy`](https://colab.research.google.com/github/tbeucler/2022_ML_Earth_Env_Sci/blob/main/Lab_Notebooks/S1_6_Cartopy.ipynb)\n",
        "\n",
        "---"
      ],
      "metadata": {
        "id": "DSqWw2VI-mSo"
      }
    },
    {
      "cell_type": "markdown",
      "source": [
        "# Incredible!! 😃\n",
        "You've reached the end of week 1's lab. If you're done early, consider:\n",
        "\n",
        "\n",
        "*   Trying out the notebook's bonus exercises\n",
        "*   Checking out the [Seaborn official documentation/tutorial](https://seaborn.pydata.org/tutorial.html) and/or online tutorial (e.g., [this one](https://www.geeksforgeeks.org/python-seaborn-tutorial/?ref=lbp)) for statistical graphics \n",
        "*   Helping students around you if applicable\n",
        "*   Giving feedback on how to improve this notebook (typos, hints, exercises that may be improved/removed/added, etc.) by messaging the teacher and TA(s) on Moodle\n",
        "*   Formulating your final project for this course. \n",
        "\n",
        "**Final Project**\n",
        "The final project’s goal is to answer a well-defined scientific question by applying one of the ML algorithms introduced in class on an environmental dataset of your choice (e.g., related to your Masters thesis or your PhD research). \n",
        "\n",
        "*   Can you think of a large environmental dataset linked to a scientific question you are passionate about?\n",
        "*   In the affirmative, how could you format the dataset to facilitate its manipulation in Python?\n",
        "*   In the negative, consider browsing the [list of benchmark datasets](http://mldata.pangeo.io/index.html) maintained by [Pangeo](https://pangeo.io/)\n",
        "\n",
        "\n",
        "\n",
        "\n",
        "\n",
        "\n"
      ],
      "metadata": {
        "id": "3KfgAq_XuKbz"
      }
    }
  ]
}